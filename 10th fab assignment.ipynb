{
 "cells": [
  {
   "cell_type": "markdown",
   "id": "85217aee-59d3-4350-bae0-80e875974a7c",
   "metadata": {},
   "source": [
    "Q1. Which function is used to open a file? What are the different modes of opening a file? Explain each mode\n",
    "of file opening."
   ]
  },
  {
   "cell_type": "markdown",
   "id": "16a0334d-48d1-47c5-a4d4-11635cafe849",
   "metadata": {},
   "source": [
    "ans.1 Tthe open() function does what the name implies – it opens a file for you so you can work with the file.\n",
    "There are 6 access modes in python.\n",
    "Read Only ('r') : Open text file for reading. ...\n",
    "Read and Write ('r+'): Open the file for reading and writing. ...\n",
    "Write Only ('w') : Open the file for writing. ...\n",
    "Write and Read ('w+') : Open the file for reading and writing. ...\n",
    "Append Only ('a'): Open the file for writing"
   ]
  },
  {
   "cell_type": "markdown",
   "id": "6c2a4ac2-087e-49f2-b78d-4b69298544fa",
   "metadata": {},
   "source": [
    "Q2. Why close() function is used? Why is it important to close a file?"
   ]
  },
  {
   "cell_type": "markdown",
   "id": "f23a0445-64d3-4ff4-86af-a275512d471f",
   "metadata": {},
   "source": [
    "The close() method closes an open file. You should always close your files, in some cases, due to buffering, changes made to a file may not show until you close the file"
   ]
  },
  {
   "cell_type": "markdown",
   "id": "e726ee25-3041-49e6-9a08-8ebb3cd0bd4c",
   "metadata": {},
   "source": [
    "Q3. Write a python program to create a text file. Write ‘I want to become a Data Scientist’ in that file. Then\n",
    "close the file. Open this file and read the content of the file."
   ]
  },
  {
   "cell_type": "code",
   "execution_count": 8,
   "id": "32254ca7-20e6-4567-afae-b250e8d283fe",
   "metadata": {},
   "outputs": [
    {
     "data": {
      "text/plain": [
       "'i want to become a data scientist'"
      ]
     },
     "execution_count": 8,
     "metadata": {},
     "output_type": "execute_result"
    }
   ],
   "source": [
    "k=open('test.txt','w')\n",
    "\n",
    "k.write('i want to become a data scientist')\n",
    "\n",
    "k.close()\n",
    "\n",
    "k=open('test.txt','r')\n",
    "\n",
    "k.read()"
   ]
  },
  {
   "cell_type": "markdown",
   "id": "45ab7ff0-941b-46bd-a04c-62cb2006708f",
   "metadata": {},
   "source": [
    "Q4. Explain the following with python code: read(), readline() and readlines()."
   ]
  },
  {
   "cell_type": "markdown",
   "id": "d93e7687-06c2-40f1-ba07-018e902e562e",
   "metadata": {},
   "source": [
    "ans.4 The read() method returns the specified number of bytes from the file. Default is -1 which means the whole file.Python readline() method will return a line from the file when called. readlines() method will return all the lines in a file in the format of a list where each element is a line in the file"
   ]
  },
  {
   "cell_type": "code",
   "execution_count": 13,
   "id": "96993c78-3f2d-4c12-ae10-6f90dd516347",
   "metadata": {},
   "outputs": [
    {
     "data": {
      "text/plain": [
       "'i want to become a data scientist'"
      ]
     },
     "execution_count": 13,
     "metadata": {},
     "output_type": "execute_result"
    }
   ],
   "source": [
    "file = open(\"test.txt\", \"r\")\n",
    "file.readline()"
   ]
  },
  {
   "cell_type": "markdown",
   "id": "a8d5fd6a-1d2a-470d-9bb6-1b804a9f2b6b",
   "metadata": {},
   "source": [
    "Q5. Explain why with statement is used with open(). What is the advantage of using with statement and\n",
    "open() together?"
   ]
  },
  {
   "cell_type": "markdown",
   "id": "37d5a695-ab37-4aad-8d1b-db1dd623ff7f",
   "metadata": {},
   "source": [
    "In Python, with statement is used in exception handling to make the code cleaner and much more readable. It simplifies the management of common resources like file streams. In Python, with statement is used in exception handling to make the code cleaner and much more readable. It simplifies the management of common resources like file streams"
   ]
  },
  {
   "cell_type": "markdown",
   "id": "9f202f02-9ba0-47c4-9167-9932f34c93d0",
   "metadata": {},
   "source": [
    "Q6. Explain the write() and writelines() functions. Give a suitable example."
   ]
  },
  {
   "cell_type": "markdown",
   "id": "e063e0d5-feb7-42ad-8010-4c7315333186",
   "metadata": {},
   "source": [
    "The only difference between the write() and writelines() is that write() is used to write a string to an already opened file while writelines() method is used to write a list of strings in an opened file"
   ]
  },
  {
   "cell_type": "code",
   "execution_count": 15,
   "id": "10e5390c-7dc7-4a05-8aa2-febda69c588d",
   "metadata": {},
   "outputs": [
    {
     "name": "stdout",
     "output_type": "stream",
     "text": [
      "See you soon!Over and out.\n"
     ]
    }
   ],
   "source": [
    "f = open(\"test2.txt\", \"a\")\n",
    "f.writelines([\"See you soon!\", \"Over and out.\"])\n",
    "f.close()\n",
    "\n",
    "#open and read the file after the appending:\n",
    "f = open(\"demofile3.txt\", \"r\")\n",
    "print(f.read())"
   ]
  },
  {
   "cell_type": "code",
   "execution_count": null,
   "id": "9f928e7c-7b46-49e2-9e3c-7316673ffcb8",
   "metadata": {},
   "outputs": [],
   "source": []
  }
 ],
 "metadata": {
  "kernelspec": {
   "display_name": "Python 3 (ipykernel)",
   "language": "python",
   "name": "python3"
  },
  "language_info": {
   "codemirror_mode": {
    "name": "ipython",
    "version": 3
   },
   "file_extension": ".py",
   "mimetype": "text/x-python",
   "name": "python",
   "nbconvert_exporter": "python",
   "pygments_lexer": "ipython3",
   "version": "3.10.8"
  }
 },
 "nbformat": 4,
 "nbformat_minor": 5
}
